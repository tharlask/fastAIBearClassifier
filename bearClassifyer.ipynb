{
 "cells": [
  {
   "cell_type": "code",
   "execution_count": 2,
   "id": "1cc56549-389a-4d0d-8fa5-22615901a35f",
   "metadata": {
    "gradient": {
     "editing": false,
     "id": "1cc56549-389a-4d0d-8fa5-22615901a35f",
     "kernelId": "6b972bf9-9488-4635-89e4-ed65e5c0b587",
     "source_hidden": false
    }
   },
   "outputs": [],
   "source": [
    "from fastbook import *\n",
    "from fastai.vision.widgets import *"
   ]
  },
  {
   "cell_type": "markdown",
   "id": "2fd47172-463c-4fc6-b825-6070352a8a17",
   "metadata": {
    "gradient": {
     "editing": false,
     "id": "2fd47172-463c-4fc6-b825-6070352a8a17",
     "kernelId": "6b972bf9-9488-4635-89e4-ed65e5c0b587"
    }
   },
   "source": [
    "#3 This is a bear classifyer"
   ]
  },
  {
   "cell_type": "code",
   "execution_count": 3,
   "id": "8fe1c92d-13c8-458b-93c1-7b2368482950",
   "metadata": {
    "gradient": {
     "editing": false,
     "id": "8fe1c92d-13c8-458b-93c1-7b2368482950",
     "kernelId": "6b972bf9-9488-4635-89e4-ed65e5c0b587",
     "source_hidden": false
    }
   },
   "outputs": [],
   "source": [
    "path = Path()\n",
    "learn_inf = load_learner(path/'export.pkl')\n",
    "btn_upload = widgets.FileUpload()\n",
    "out_pl = widgets.Output()\n",
    "lbl_pred = widgets.Label()"
   ]
  },
  {
   "cell_type": "code",
   "execution_count": 4,
   "id": "07e4f3ce-b10a-4456-a3fd-36194e112889",
   "metadata": {
    "gradient": {
     "editing": false,
     "id": "07e4f3ce-b10a-4456-a3fd-36194e112889",
     "kernelId": "6b972bf9-9488-4635-89e4-ed65e5c0b587",
     "source_hidden": false
    }
   },
   "outputs": [],
   "source": [
    "def on_click_classify(change):\n",
    "    img = PILImage.create(btn_upload.data[-1])\n",
    "    out_pl.clear_output()\n",
    "    with out_pl: display(img.to_thumb(128,128))\n",
    "    pred,pred_idx,probs = learn_inf.predict(img)\n",
    "    lbl_pred.value = f'Prediction: {pred}; Probability: {probs[pred_idx]:.04f}'\n"
   ]
  },
  {
   "cell_type": "code",
   "execution_count": 9,
   "id": "478ff2c7-8ad5-45ed-a3b2-aa432048f75b",
   "metadata": {
    "gradient": {
     "editing": false,
     "id": "478ff2c7-8ad5-45ed-a3b2-aa432048f75b",
     "kernelId": "6b972bf9-9488-4635-89e4-ed65e5c0b587",
     "source_hidden": false
    }
   },
   "outputs": [],
   "source": [
    "btn_upload.observe(on_click_classify, names=['data'])"
   ]
  },
  {
   "cell_type": "code",
   "execution_count": 10,
   "id": "0e4d1335-0657-4623-b6f6-c391bf60d4b8",
   "metadata": {
    "gradient": {
     "editing": false,
     "id": "0e4d1335-0657-4623-b6f6-c391bf60d4b8",
     "kernelId": "6b972bf9-9488-4635-89e4-ed65e5c0b587",
     "source_hidden": false
    }
   },
   "outputs": [
    {
     "data": {
      "application/vnd.jupyter.widget-view+json": {
       "model_id": "76bb82e171a0450582417c922301280d",
       "version_major": 2,
       "version_minor": 0
      },
      "text/plain": [
       "VBox(children=(Label(value='Select your bear!'), FileUpload(value={}, description='Upload'), Output(), Label(v…"
      ]
     },
     "metadata": {},
     "output_type": "display_data"
    },
    {
     "data": {
      "text/html": [],
      "text/plain": [
       "<IPython.core.display.HTML object>"
      ]
     },
     "metadata": {},
     "output_type": "display_data"
    },
    {
     "data": {
      "text/html": [],
      "text/plain": [
       "<IPython.core.display.HTML object>"
      ]
     },
     "metadata": {},
     "output_type": "display_data"
    }
   ],
   "source": [
    "display(VBox([widgets.Label('Select your bear!'), \n",
    "      btn_upload, out_pl, lbl_pred]))"
   ]
  },
  {
   "cell_type": "code",
   "execution_count": null,
   "id": "e1de02d8",
   "metadata": {},
   "outputs": [],
   "source": []
  }
 ],
 "metadata": {
  "kernelspec": {
   "display_name": "Python 3 (ipykernel)",
   "language": "python",
   "name": "python3"
  },
  "language_info": {
   "codemirror_mode": {
    "name": "ipython",
    "version": 3
   },
   "file_extension": ".py",
   "mimetype": "text/x-python",
   "name": "python",
   "nbconvert_exporter": "python",
   "pygments_lexer": "ipython3",
   "version": "3.7.11"
  }
 },
 "nbformat": 4,
 "nbformat_minor": 5
}
