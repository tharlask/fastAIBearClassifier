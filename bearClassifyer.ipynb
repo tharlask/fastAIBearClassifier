{
 "cells": [
  {
   "cell_type": "code",
   "execution_count": 1,
   "id": "a82ecd57",
   "metadata": {
    "gradient": {
     "editing": false,
     "execution_count": 1,
     "id": "a82ecd57",
     "kernelId": "f7094ee5-b7b5-4b25-ba8c-8f6a5629a525"
    }
   },
   "outputs": [],
   "source": [
    "!pip install -Uqq fastbook\n",
    "import fastbook\n",
    "fastbook.setup_book()"
   ]
  },
  {
   "cell_type": "code",
   "execution_count": 2,
   "id": "1cc56549-389a-4d0d-8fa5-22615901a35f",
   "metadata": {
    "gradient": {
     "editing": false,
     "id": "1cc56549-389a-4d0d-8fa5-22615901a35f",
     "kernelId": "f7094ee5-b7b5-4b25-ba8c-8f6a5629a525",
     "source_hidden": false
    }
   },
   "outputs": [],
   "source": [
    "from fastbook import *\n",
    "from fastai.vision.widgets import *"
   ]
  },
  {
   "cell_type": "code",
   "execution_count": 6,
   "id": "d9883139-c844-4b98-897f-640499999c67",
   "metadata": {
    "gradient": {
     "editing": false,
     "id": "d9883139-c844-4b98-897f-640499999c67",
     "kernelId": "f7094ee5-b7b5-4b25-ba8c-8f6a5629a525",
     "source_hidden": false
    }
   },
   "outputs": [
    {
     "name": "stdout",
     "output_type": "stream",
     "text": [
      "Collecting package metadata (current_repodata.json): done\n",
      "Solving environment: done\n",
      "\n",
      "## Package Plan ##\n",
      "\n",
      "  environment location: /opt/conda\n",
      "\n",
      "  added / updated specs:\n",
      "    - nbformat=4.4.0\n",
      "\n",
      "\n",
      "The following packages will be downloaded:\n",
      "\n",
      "    package                    |            build\n",
      "    ---------------------------|-----------------\n",
      "    attrs-21.4.0               |     pyhd3eb1b0_0          51 KB\n",
      "    ca-certificates-2022.2.1   |       h06a4308_0         122 KB\n",
      "    certifi-2021.10.8          |   py37h06a4308_2         151 KB\n",
      "    conda-4.11.0               |   py37h06a4308_0        14.4 MB\n",
      "    importlib-metadata-4.8.2   |   py37h06a4308_0          39 KB\n",
      "    importlib_metadata-4.8.2   |       hd3eb1b0_0          12 KB\n",
      "    ipython_genutils-0.2.0     |     pyhd3eb1b0_1          27 KB\n",
      "    jsonschema-3.2.0           |     pyhd3eb1b0_2          47 KB\n",
      "    jupyter_core-4.9.1         |   py37h06a4308_0          74 KB\n",
      "    nbformat-4.4.0             |           py37_0         128 KB\n",
      "    openssl-1.1.1m             |       h7f8727e_0         2.5 MB\n",
      "    pyrsistent-0.18.0          |   py37heee7806_0          95 KB\n",
      "    zipp-3.7.0                 |     pyhd3eb1b0_0          12 KB\n",
      "    ------------------------------------------------------------\n",
      "                                           Total:        17.7 MB\n",
      "\n",
      "The following NEW packages will be INSTALLED:\n",
      "\n",
      "  attrs              pkgs/main/noarch::attrs-21.4.0-pyhd3eb1b0_0\n",
      "  importlib-metadata pkgs/main/linux-64::importlib-metadata-4.8.2-py37h06a4308_0\n",
      "  importlib_metadata pkgs/main/noarch::importlib_metadata-4.8.2-hd3eb1b0_0\n",
      "  ipython_genutils   pkgs/main/noarch::ipython_genutils-0.2.0-pyhd3eb1b0_1\n",
      "  jsonschema         pkgs/main/noarch::jsonschema-3.2.0-pyhd3eb1b0_2\n",
      "  jupyter_core       pkgs/main/linux-64::jupyter_core-4.9.1-py37h06a4308_0\n",
      "  nbformat           pkgs/main/linux-64::nbformat-4.4.0-py37_0\n",
      "  pyrsistent         pkgs/main/linux-64::pyrsistent-0.18.0-py37heee7806_0\n",
      "  zipp               pkgs/main/noarch::zipp-3.7.0-pyhd3eb1b0_0\n",
      "\n",
      "The following packages will be UPDATED:\n",
      "\n",
      "  ca-certificates                      2021.9.30-h06a4308_1 --> 2022.2.1-h06a4308_0\n",
      "  certifi                          2021.10.8-py37h06a4308_0 --> 2021.10.8-py37h06a4308_2\n",
      "  conda                               4.10.3-py37h06a4308_0 --> 4.11.0-py37h06a4308_0\n",
      "  openssl                                 1.1.1l-h7f8727e_0 --> 1.1.1m-h7f8727e_0\n",
      "\n",
      "\n",
      "\n",
      "Downloading and Extracting Packages\n",
      "jupyter_core-4.9.1   | 74 KB     | ##################################### | 100% \n",
      "conda-4.11.0         | 14.4 MB   | ##################################### | 100% \n",
      "importlib_metadata-4 | 12 KB     | ##################################### | 100% \n",
      "attrs-21.4.0         | 51 KB     | ##################################### | 100% \n",
      "nbformat-4.4.0       | 128 KB    | ##################################### | 100% \n",
      "openssl-1.1.1m       | 2.5 MB    | ##################################### | 100% \n",
      "pyrsistent-0.18.0    | 95 KB     | ##################################### | 100% \n",
      "certifi-2021.10.8    | 151 KB    | ##################################### | 100% \n",
      "ipython_genutils-0.2 | 27 KB     | ##################################### | 100% \n",
      "zipp-3.7.0           | 12 KB     | ##################################### | 100% \n",
      "importlib-metadata-4 | 39 KB     | ##################################### | 100% \n",
      "ca-certificates-2022 | 122 KB    | ##################################### | 100% \n",
      "jsonschema-3.2.0     | 47 KB     | ##################################### | 100% \n",
      "Preparing transaction: done\n",
      "Verifying transaction: done\n",
      "Executing transaction: done\n",
      "\n",
      "Note: you may need to restart the kernel to use updated packages.\n"
     ]
    }
   ],
   "source": [
    "conda install nbformat=4.4.0"
   ]
  },
  {
   "cell_type": "code",
   "execution_count": 7,
   "id": "784b8eb3",
   "metadata": {
    "gradient": {
     "editing": false,
     "execution_count": 3,
     "id": "784b8eb3",
     "kernelId": "f7094ee5-b7b5-4b25-ba8c-8f6a5629a525"
    }
   },
   "outputs": [
    {
     "name": "stdout",
     "output_type": "stream",
     "text": [
      "Requirement already satisfied: voila in /opt/conda/lib/python3.7/site-packages (0.3.2)\n",
      "Requirement already satisfied: websockets>=9.0 in /opt/conda/lib/python3.7/site-packages (from voila) (10.2)\n",
      "Requirement already satisfied: jupyterlab-server<3,>=2.3.0 in /opt/conda/lib/python3.7/site-packages (from voila) (2.10.3)\n",
      "Requirement already satisfied: jupyter-client<8,>=6.1.3 in /opt/conda/lib/python3.7/site-packages (from voila) (6.1.12)\n",
      "Requirement already satisfied: traitlets<6,>=5.0.3 in /opt/conda/lib/python3.7/site-packages (from voila) (5.1.0)\n",
      "Requirement already satisfied: nbconvert<7,>=6.4.2 in /opt/conda/lib/python3.7/site-packages (from voila) (6.4.2)\n",
      "Requirement already satisfied: nbclient<0.6,>=0.4.0 in /opt/conda/lib/python3.7/site-packages (from voila) (0.5.11)\n",
      "Requirement already satisfied: jupyter-server<2.0.0,>=0.3.0 in /opt/conda/lib/python3.7/site-packages (from voila) (1.13.5)\n",
      "Requirement already satisfied: pyzmq>=13 in /opt/conda/lib/python3.7/site-packages (from jupyter-client<8,>=6.1.3->voila) (22.3.0)\n",
      "Requirement already satisfied: tornado>=4.1 in /opt/conda/lib/python3.7/site-packages (from jupyter-client<8,>=6.1.3->voila) (6.1)\n",
      "Requirement already satisfied: jupyter-core>=4.6.0 in /opt/conda/lib/python3.7/site-packages (from jupyter-client<8,>=6.1.3->voila) (4.9.1)\n",
      "Requirement already satisfied: python-dateutil>=2.1 in /opt/conda/lib/python3.7/site-packages (from jupyter-client<8,>=6.1.3->voila) (2.8.2)\n",
      "Requirement already satisfied: nbformat in /opt/conda/lib/python3.7/site-packages (from jupyter-server<2.0.0,>=0.3.0->voila) (5.1.3)\n",
      "Requirement already satisfied: anyio<4,>=3.1.0 in /opt/conda/lib/python3.7/site-packages (from jupyter-server<2.0.0,>=0.3.0->voila) (3.5.0)\n",
      "Requirement already satisfied: websocket-client in /opt/conda/lib/python3.7/site-packages (from jupyter-server<2.0.0,>=0.3.0->voila) (1.2.1)\n",
      "Requirement already satisfied: ipython-genutils in /opt/conda/lib/python3.7/site-packages (from jupyter-server<2.0.0,>=0.3.0->voila) (0.2.0)\n",
      "Requirement already satisfied: Send2Trash in /opt/conda/lib/python3.7/site-packages (from jupyter-server<2.0.0,>=0.3.0->voila) (1.8.0)\n",
      "Requirement already satisfied: terminado>=0.8.3 in /opt/conda/lib/python3.7/site-packages (from jupyter-server<2.0.0,>=0.3.0->voila) (0.12.1)\n",
      "Requirement already satisfied: jinja2 in /opt/conda/lib/python3.7/site-packages (from jupyter-server<2.0.0,>=0.3.0->voila) (2.11.3)\n",
      "Requirement already satisfied: packaging in /opt/conda/lib/python3.7/site-packages (from jupyter-server<2.0.0,>=0.3.0->voila) (21.2)\n",
      "Requirement already satisfied: prometheus-client in /opt/conda/lib/python3.7/site-packages (from jupyter-server<2.0.0,>=0.3.0->voila) (0.12.0)\n",
      "Requirement already satisfied: argon2-cffi in /opt/conda/lib/python3.7/site-packages (from jupyter-server<2.0.0,>=0.3.0->voila) (21.1.0)\n",
      "Requirement already satisfied: typing-extensions in /opt/conda/lib/python3.7/site-packages (from anyio<4,>=3.1.0->jupyter-server<2.0.0,>=0.3.0->voila) (3.10.0.2)\n",
      "Requirement already satisfied: idna>=2.8 in /opt/conda/lib/python3.7/site-packages (from anyio<4,>=3.1.0->jupyter-server<2.0.0,>=0.3.0->voila) (2.10)\n",
      "Requirement already satisfied: sniffio>=1.1 in /opt/conda/lib/python3.7/site-packages (from anyio<4,>=3.1.0->jupyter-server<2.0.0,>=0.3.0->voila) (1.2.0)\n",
      "Requirement already satisfied: requests in /opt/conda/lib/python3.7/site-packages (from jupyterlab-server<3,>=2.3.0->voila) (2.25.1)\n",
      "Requirement already satisfied: json5 in /opt/conda/lib/python3.7/site-packages (from jupyterlab-server<3,>=2.3.0->voila) (0.9.6)\n",
      "Requirement already satisfied: entrypoints>=0.2.2 in /opt/conda/lib/python3.7/site-packages (from jupyterlab-server<3,>=2.3.0->voila) (0.3)\n",
      "Requirement already satisfied: babel in /opt/conda/lib/python3.7/site-packages (from jupyterlab-server<3,>=2.3.0->voila) (2.9.1)\n",
      "Requirement already satisfied: jsonschema>=3.0.1 in /opt/conda/lib/python3.7/site-packages (from jupyterlab-server<3,>=2.3.0->voila) (3.2.0)\n",
      "Requirement already satisfied: MarkupSafe>=0.23 in /opt/conda/lib/python3.7/site-packages (from jinja2->jupyter-server<2.0.0,>=0.3.0->voila) (2.0.1)\n",
      "Requirement already satisfied: attrs>=17.4.0 in /opt/conda/lib/python3.7/site-packages (from jsonschema>=3.0.1->jupyterlab-server<3,>=2.3.0->voila) (21.4.0)\n",
      "Requirement already satisfied: six>=1.11.0 in /opt/conda/lib/python3.7/site-packages (from jsonschema>=3.0.1->jupyterlab-server<3,>=2.3.0->voila) (1.16.0)\n",
      "Requirement already satisfied: setuptools in /opt/conda/lib/python3.7/site-packages (from jsonschema>=3.0.1->jupyterlab-server<3,>=2.3.0->voila) (58.0.4)\n",
      "Requirement already satisfied: importlib-metadata in /opt/conda/lib/python3.7/site-packages (from jsonschema>=3.0.1->jupyterlab-server<3,>=2.3.0->voila) (4.8.2)\n",
      "Requirement already satisfied: pyrsistent>=0.14.0 in /opt/conda/lib/python3.7/site-packages (from jsonschema>=3.0.1->jupyterlab-server<3,>=2.3.0->voila) (0.18.0)\n",
      "Requirement already satisfied: nest-asyncio in /opt/conda/lib/python3.7/site-packages (from nbclient<0.6,>=0.4.0->voila) (1.5.4)\n",
      "Requirement already satisfied: testpath in /opt/conda/lib/python3.7/site-packages (from nbconvert<7,>=6.4.2->voila) (0.5.0)\n",
      "Requirement already satisfied: defusedxml in /opt/conda/lib/python3.7/site-packages (from nbconvert<7,>=6.4.2->voila) (0.7.1)\n",
      "Requirement already satisfied: pandocfilters>=1.4.1 in /opt/conda/lib/python3.7/site-packages (from nbconvert<7,>=6.4.2->voila) (1.5.0)\n",
      "Requirement already satisfied: bleach in /opt/conda/lib/python3.7/site-packages (from nbconvert<7,>=6.4.2->voila) (4.1.0)\n",
      "Requirement already satisfied: mistune<2,>=0.8.1 in /opt/conda/lib/python3.7/site-packages (from nbconvert<7,>=6.4.2->voila) (0.8.4)\n",
      "Requirement already satisfied: pygments>=2.4.1 in /opt/conda/lib/python3.7/site-packages (from nbconvert<7,>=6.4.2->voila) (2.10.0)\n",
      "Requirement already satisfied: jupyterlab-pygments in /opt/conda/lib/python3.7/site-packages (from nbconvert<7,>=6.4.2->voila) (0.1.2)\n",
      "Requirement already satisfied: ptyprocess in /opt/conda/lib/python3.7/site-packages (from terminado>=0.8.3->jupyter-server<2.0.0,>=0.3.0->voila) (0.7.0)\n",
      "Requirement already satisfied: cffi>=1.0.0 in /opt/conda/lib/python3.7/site-packages (from argon2-cffi->jupyter-server<2.0.0,>=0.3.0->voila) (1.14.6)\n",
      "Requirement already satisfied: pycparser in /opt/conda/lib/python3.7/site-packages (from cffi>=1.0.0->argon2-cffi->jupyter-server<2.0.0,>=0.3.0->voila) (2.20)\n",
      "Requirement already satisfied: pytz>=2015.7 in /opt/conda/lib/python3.7/site-packages (from babel->jupyterlab-server<3,>=2.3.0->voila) (2021.3)\n",
      "Requirement already satisfied: webencodings in /opt/conda/lib/python3.7/site-packages (from bleach->nbconvert<7,>=6.4.2->voila) (0.5.1)\n",
      "Requirement already satisfied: zipp>=0.5 in /opt/conda/lib/python3.7/site-packages (from importlib-metadata->jsonschema>=3.0.1->jupyterlab-server<3,>=2.3.0->voila) (3.7.0)\n",
      "Requirement already satisfied: pyparsing<3,>=2.0.2 in /opt/conda/lib/python3.7/site-packages (from packaging->jupyter-server<2.0.0,>=0.3.0->voila) (2.4.7)\n",
      "Requirement already satisfied: chardet<5,>=3.0.2 in /opt/conda/lib/python3.7/site-packages (from requests->jupyterlab-server<3,>=2.3.0->voila) (4.0.0)\n",
      "Requirement already satisfied: urllib3<1.27,>=1.21.1 in /opt/conda/lib/python3.7/site-packages (from requests->jupyterlab-server<3,>=2.3.0->voila) (1.26.6)\n",
      "Requirement already satisfied: certifi>=2017.4.17 in /opt/conda/lib/python3.7/site-packages (from requests->jupyterlab-server<3,>=2.3.0->voila) (2021.10.8)\n",
      "Enabling: voila\n",
      "- Writing config: /opt/conda/etc/jupyter\n",
      "    - Validating...\n",
      "      voila 0.3.2 \u001b[32mOK\u001b[0m\n"
     ]
    }
   ],
   "source": [
    "!pip install voila\n",
    "!jupyter serverextension enable --sys-prefix voila\n"
   ]
  },
  {
   "cell_type": "markdown",
   "id": "2fd47172-463c-4fc6-b825-6070352a8a17",
   "metadata": {
    "gradient": {
     "editing": false,
     "id": "2fd47172-463c-4fc6-b825-6070352a8a17",
     "kernelId": "f7094ee5-b7b5-4b25-ba8c-8f6a5629a525"
    }
   },
   "source": [
    "#3 This is a bear classifyer"
   ]
  },
  {
   "cell_type": "code",
   "execution_count": 8,
   "id": "8fe1c92d-13c8-458b-93c1-7b2368482950",
   "metadata": {
    "gradient": {
     "editing": false,
     "id": "8fe1c92d-13c8-458b-93c1-7b2368482950",
     "kernelId": "f7094ee5-b7b5-4b25-ba8c-8f6a5629a525",
     "source_hidden": false
    }
   },
   "outputs": [],
   "source": [
    "path = Path()\n",
    "learn_inf = load_learner(path/'export.pkl')\n",
    "btn_upload = widgets.FileUpload()\n",
    "out_pl = widgets.Output()\n",
    "lbl_pred = widgets.Label()"
   ]
  },
  {
   "cell_type": "code",
   "execution_count": 9,
   "id": "07e4f3ce-b10a-4456-a3fd-36194e112889",
   "metadata": {
    "gradient": {
     "editing": false,
     "id": "07e4f3ce-b10a-4456-a3fd-36194e112889",
     "kernelId": "f7094ee5-b7b5-4b25-ba8c-8f6a5629a525",
     "source_hidden": false
    }
   },
   "outputs": [],
   "source": [
    "def on_click_classify(change):\n",
    "    img = PILImage.create(btn_upload.data[-1])\n",
    "    out_pl.clear_output()\n",
    "    with out_pl: display(img.to_thumb(128,128))\n",
    "    pred,pred_idx,probs = learn_inf.predict(img)\n",
    "    lbl_pred.value = f'Prediction: {pred}; Probability: {probs[pred_idx]:.04f}'\n"
   ]
  },
  {
   "cell_type": "code",
   "execution_count": 10,
   "id": "478ff2c7-8ad5-45ed-a3b2-aa432048f75b",
   "metadata": {
    "gradient": {
     "editing": false,
     "id": "478ff2c7-8ad5-45ed-a3b2-aa432048f75b",
     "kernelId": "f7094ee5-b7b5-4b25-ba8c-8f6a5629a525",
     "source_hidden": false
    }
   },
   "outputs": [],
   "source": [
    "btn_upload.observe(on_click_classify, names=['data'])"
   ]
  },
  {
   "cell_type": "code",
   "execution_count": 11,
   "id": "0e4d1335-0657-4623-b6f6-c391bf60d4b8",
   "metadata": {
    "gradient": {
     "editing": false,
     "id": "0e4d1335-0657-4623-b6f6-c391bf60d4b8",
     "kernelId": "f7094ee5-b7b5-4b25-ba8c-8f6a5629a525",
     "source_hidden": false
    }
   },
   "outputs": [
    {
     "data": {
      "application/vnd.jupyter.widget-view+json": {
       "model_id": "e9bd959ce04642a3acf78d433023a9a7",
       "version_major": 2,
       "version_minor": 0
      },
      "text/plain": [
       "VBox(children=(Label(value='Select your bear!'), FileUpload(value={}, description='Upload'), Output(), Label(v…"
      ]
     },
     "metadata": {},
     "output_type": "display_data"
    }
   ],
   "source": [
    "display(VBox([widgets.Label('Select your bear!'), \n",
    "      btn_upload, out_pl, lbl_pred]))"
   ]
  },
  {
   "cell_type": "code",
   "execution_count": null,
   "id": "e1de02d8",
   "metadata": {
    "gradient": {
     "editing": false,
     "id": "e1de02d8",
     "kernelId": "f7094ee5-b7b5-4b25-ba8c-8f6a5629a525"
    }
   },
   "outputs": [],
   "source": []
  }
 ],
 "metadata": {
  "kernelspec": {
   "display_name": "Python 3 (ipykernel)",
   "language": "python",
   "name": "python3"
  },
  "language_info": {
   "codemirror_mode": {
    "name": "ipython",
    "version": 3
   },
   "file_extension": ".py",
   "mimetype": "text/x-python",
   "name": "python",
   "nbconvert_exporter": "python",
   "pygments_lexer": "ipython3",
   "version": "3.7.11"
  }
 },
 "nbformat": 4,
 "nbformat_minor": 5
}
